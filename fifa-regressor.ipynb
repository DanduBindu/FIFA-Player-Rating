{
  "nbformat": 4,
  "nbformat_minor": 0,
  "metadata": {
    "colab": {
      "name": "FIFA(REGRESSOR).ipynb",
      "version": "0.3.2",
      "provenance": [],
      "collapsed_sections": []
    },
    "kernelspec": {
      "name": "python3",
      "display_name": "Python 3"
    },
    "accelerator": "GPU"
  },
  "cells": [
    {
      "cell_type": "markdown",
      "metadata": {
        "id": "li3wSGqXi2tt",
        "colab_type": "text"
      },
      "source": [
        "#LIBRARY DECLARATION"
      ]
    },
    {
      "cell_type": "code",
      "metadata": {
        "id": "TgY2Pi_ZnlIH",
        "colab_type": "code",
        "colab": {}
      },
      "source": [
        "import pandas as pd\n",
        "import matplotlib.pyplot as plt\n",
        "import seaborn as sns\n",
        "from sklearn.model_selection import train_test_split\n",
        "from sklearn import metrics\n"
      ],
      "execution_count": 0,
      "outputs": []
    },
    {
      "cell_type": "markdown",
      "metadata": {
        "id": "vWhRp9LtnnqE",
        "colab_type": "text"
      },
      "source": [
        "#READING DATA_SET"
      ]
    },
    {
      "cell_type": "code",
      "metadata": {
        "id": "ypgFL3c4nmmD",
        "colab_type": "code",
        "outputId": "e31668e1-9422-439f-f894-9560385dc2e8",
        "colab": {
          "base_uri": "https://localhost:8080/",
          "height": 420
        }
      },
      "source": [
        "data=pd.read_csv('CompleteDataset.csv')\n",
        "data.head()"
      ],
      "execution_count": 0,
      "outputs": [
        {
          "output_type": "stream",
          "text": [
            "/usr/local/lib/python3.6/dist-packages/IPython/core/interactiveshell.py:2718: DtypeWarning: Columns (23,35) have mixed types. Specify dtype option on import or set low_memory=False.\n",
            "  interactivity=interactivity, compiler=compiler, result=result)\n"
          ],
          "name": "stderr"
        },
        {
          "output_type": "execute_result",
          "data": {
            "text/html": [
              "<div>\n",
              "<style scoped>\n",
              "    .dataframe tbody tr th:only-of-type {\n",
              "        vertical-align: middle;\n",
              "    }\n",
              "\n",
              "    .dataframe tbody tr th {\n",
              "        vertical-align: top;\n",
              "    }\n",
              "\n",
              "    .dataframe thead th {\n",
              "        text-align: right;\n",
              "    }\n",
              "</style>\n",
              "<table border=\"1\" class=\"dataframe\">\n",
              "  <thead>\n",
              "    <tr style=\"text-align: right;\">\n",
              "      <th></th>\n",
              "      <th>Index</th>\n",
              "      <th>Name</th>\n",
              "      <th>Age</th>\n",
              "      <th>Photo</th>\n",
              "      <th>Nationality</th>\n",
              "      <th>Flag</th>\n",
              "      <th>Overall</th>\n",
              "      <th>Potential</th>\n",
              "      <th>Club</th>\n",
              "      <th>Club Logo</th>\n",
              "      <th>Value</th>\n",
              "      <th>Wage</th>\n",
              "      <th>Special</th>\n",
              "      <th>Acceleration</th>\n",
              "      <th>Aggression</th>\n",
              "      <th>Agility</th>\n",
              "      <th>Balance</th>\n",
              "      <th>Ball control</th>\n",
              "      <th>Composure</th>\n",
              "      <th>Crossing</th>\n",
              "      <th>Curve</th>\n",
              "      <th>Dribbling</th>\n",
              "      <th>Finishing</th>\n",
              "      <th>Free kick accuracy</th>\n",
              "      <th>GK diving</th>\n",
              "      <th>GK handling</th>\n",
              "      <th>GK kicking</th>\n",
              "      <th>GK positioning</th>\n",
              "      <th>GK reflexes</th>\n",
              "      <th>Heading accuracy</th>\n",
              "      <th>Interceptions</th>\n",
              "      <th>Jumping</th>\n",
              "      <th>Long passing</th>\n",
              "      <th>Long shots</th>\n",
              "      <th>Marking</th>\n",
              "      <th>Penalties</th>\n",
              "      <th>Positioning</th>\n",
              "      <th>Reactions</th>\n",
              "      <th>Short passing</th>\n",
              "      <th>Shot power</th>\n",
              "      <th>Sliding tackle</th>\n",
              "      <th>Sprint speed</th>\n",
              "      <th>Stamina</th>\n",
              "      <th>Standing tackle</th>\n",
              "      <th>Strength</th>\n",
              "      <th>Vision</th>\n",
              "      <th>Volleys</th>\n",
              "      <th>CAM</th>\n",
              "      <th>CB</th>\n",
              "      <th>CDM</th>\n",
              "      <th>CF</th>\n",
              "      <th>CM</th>\n",
              "      <th>ID</th>\n",
              "      <th>LAM</th>\n",
              "      <th>LB</th>\n",
              "      <th>LCB</th>\n",
              "      <th>LCM</th>\n",
              "      <th>LDM</th>\n",
              "      <th>LF</th>\n",
              "      <th>LM</th>\n",
              "      <th>LS</th>\n",
              "      <th>LW</th>\n",
              "      <th>LWB</th>\n",
              "      <th>Preferred Positions</th>\n",
              "      <th>RAM</th>\n",
              "      <th>RB</th>\n",
              "      <th>RCB</th>\n",
              "      <th>RCM</th>\n",
              "      <th>RDM</th>\n",
              "      <th>RF</th>\n",
              "      <th>RM</th>\n",
              "      <th>RS</th>\n",
              "      <th>RW</th>\n",
              "      <th>RWB</th>\n",
              "      <th>ST</th>\n",
              "    </tr>\n",
              "  </thead>\n",
              "  <tbody>\n",
              "    <tr>\n",
              "      <th>0</th>\n",
              "      <td>0</td>\n",
              "      <td>Cristiano Ronaldo</td>\n",
              "      <td>32</td>\n",
              "      <td>https://cdn.sofifa.org/48/18/players/20801.png</td>\n",
              "      <td>Portugal</td>\n",
              "      <td>https://cdn.sofifa.org/flags/38.png</td>\n",
              "      <td>94</td>\n",
              "      <td>94</td>\n",
              "      <td>Real Madrid CF</td>\n",
              "      <td>https://cdn.sofifa.org/24/18/teams/243.png</td>\n",
              "      <td>€95.5M</td>\n",
              "      <td>€565K</td>\n",
              "      <td>2228</td>\n",
              "      <td>89</td>\n",
              "      <td>63</td>\n",
              "      <td>89</td>\n",
              "      <td>63</td>\n",
              "      <td>93</td>\n",
              "      <td>95</td>\n",
              "      <td>85</td>\n",
              "      <td>81</td>\n",
              "      <td>91</td>\n",
              "      <td>94</td>\n",
              "      <td>76</td>\n",
              "      <td>7</td>\n",
              "      <td>11</td>\n",
              "      <td>15</td>\n",
              "      <td>14</td>\n",
              "      <td>11</td>\n",
              "      <td>88</td>\n",
              "      <td>29</td>\n",
              "      <td>95</td>\n",
              "      <td>77</td>\n",
              "      <td>92</td>\n",
              "      <td>22</td>\n",
              "      <td>85</td>\n",
              "      <td>95</td>\n",
              "      <td>96</td>\n",
              "      <td>83</td>\n",
              "      <td>94</td>\n",
              "      <td>23</td>\n",
              "      <td>91</td>\n",
              "      <td>92</td>\n",
              "      <td>31</td>\n",
              "      <td>80</td>\n",
              "      <td>85</td>\n",
              "      <td>88</td>\n",
              "      <td>89.0</td>\n",
              "      <td>53.0</td>\n",
              "      <td>62.0</td>\n",
              "      <td>91.0</td>\n",
              "      <td>82.0</td>\n",
              "      <td>20801</td>\n",
              "      <td>89.0</td>\n",
              "      <td>61.0</td>\n",
              "      <td>53.0</td>\n",
              "      <td>82.0</td>\n",
              "      <td>62.0</td>\n",
              "      <td>91.0</td>\n",
              "      <td>89.0</td>\n",
              "      <td>92.0</td>\n",
              "      <td>91.0</td>\n",
              "      <td>66.0</td>\n",
              "      <td>ST LW</td>\n",
              "      <td>89.0</td>\n",
              "      <td>61.0</td>\n",
              "      <td>53.0</td>\n",
              "      <td>82.0</td>\n",
              "      <td>62.0</td>\n",
              "      <td>91.0</td>\n",
              "      <td>89.0</td>\n",
              "      <td>92.0</td>\n",
              "      <td>91.0</td>\n",
              "      <td>66.0</td>\n",
              "      <td>92.0</td>\n",
              "    </tr>\n",
              "    <tr>\n",
              "      <th>1</th>\n",
              "      <td>1</td>\n",
              "      <td>L. Messi</td>\n",
              "      <td>30</td>\n",
              "      <td>https://cdn.sofifa.org/48/18/players/158023.png</td>\n",
              "      <td>Argentina</td>\n",
              "      <td>https://cdn.sofifa.org/flags/52.png</td>\n",
              "      <td>93</td>\n",
              "      <td>93</td>\n",
              "      <td>FC Barcelona</td>\n",
              "      <td>https://cdn.sofifa.org/24/18/teams/241.png</td>\n",
              "      <td>€105M</td>\n",
              "      <td>€565K</td>\n",
              "      <td>2154</td>\n",
              "      <td>92</td>\n",
              "      <td>48</td>\n",
              "      <td>90</td>\n",
              "      <td>95</td>\n",
              "      <td>95</td>\n",
              "      <td>96</td>\n",
              "      <td>77</td>\n",
              "      <td>89</td>\n",
              "      <td>97</td>\n",
              "      <td>95</td>\n",
              "      <td>90</td>\n",
              "      <td>6</td>\n",
              "      <td>11</td>\n",
              "      <td>15</td>\n",
              "      <td>14</td>\n",
              "      <td>8</td>\n",
              "      <td>71</td>\n",
              "      <td>22</td>\n",
              "      <td>68</td>\n",
              "      <td>87</td>\n",
              "      <td>88</td>\n",
              "      <td>13</td>\n",
              "      <td>74</td>\n",
              "      <td>93</td>\n",
              "      <td>95</td>\n",
              "      <td>88</td>\n",
              "      <td>85</td>\n",
              "      <td>26</td>\n",
              "      <td>87</td>\n",
              "      <td>73</td>\n",
              "      <td>28</td>\n",
              "      <td>59</td>\n",
              "      <td>90</td>\n",
              "      <td>85</td>\n",
              "      <td>92.0</td>\n",
              "      <td>45.0</td>\n",
              "      <td>59.0</td>\n",
              "      <td>92.0</td>\n",
              "      <td>84.0</td>\n",
              "      <td>158023</td>\n",
              "      <td>92.0</td>\n",
              "      <td>57.0</td>\n",
              "      <td>45.0</td>\n",
              "      <td>84.0</td>\n",
              "      <td>59.0</td>\n",
              "      <td>92.0</td>\n",
              "      <td>90.0</td>\n",
              "      <td>88.0</td>\n",
              "      <td>91.0</td>\n",
              "      <td>62.0</td>\n",
              "      <td>RW</td>\n",
              "      <td>92.0</td>\n",
              "      <td>57.0</td>\n",
              "      <td>45.0</td>\n",
              "      <td>84.0</td>\n",
              "      <td>59.0</td>\n",
              "      <td>92.0</td>\n",
              "      <td>90.0</td>\n",
              "      <td>88.0</td>\n",
              "      <td>91.0</td>\n",
              "      <td>62.0</td>\n",
              "      <td>88.0</td>\n",
              "    </tr>\n",
              "    <tr>\n",
              "      <th>2</th>\n",
              "      <td>2</td>\n",
              "      <td>Neymar</td>\n",
              "      <td>25</td>\n",
              "      <td>https://cdn.sofifa.org/48/18/players/190871.png</td>\n",
              "      <td>Brazil</td>\n",
              "      <td>https://cdn.sofifa.org/flags/54.png</td>\n",
              "      <td>92</td>\n",
              "      <td>94</td>\n",
              "      <td>Paris Saint-Germain</td>\n",
              "      <td>https://cdn.sofifa.org/24/18/teams/73.png</td>\n",
              "      <td>€123M</td>\n",
              "      <td>€280K</td>\n",
              "      <td>2100</td>\n",
              "      <td>94</td>\n",
              "      <td>56</td>\n",
              "      <td>96</td>\n",
              "      <td>82</td>\n",
              "      <td>95</td>\n",
              "      <td>92</td>\n",
              "      <td>75</td>\n",
              "      <td>81</td>\n",
              "      <td>96</td>\n",
              "      <td>89</td>\n",
              "      <td>84</td>\n",
              "      <td>9</td>\n",
              "      <td>9</td>\n",
              "      <td>15</td>\n",
              "      <td>15</td>\n",
              "      <td>11</td>\n",
              "      <td>62</td>\n",
              "      <td>36</td>\n",
              "      <td>61</td>\n",
              "      <td>75</td>\n",
              "      <td>77</td>\n",
              "      <td>21</td>\n",
              "      <td>81</td>\n",
              "      <td>90</td>\n",
              "      <td>88</td>\n",
              "      <td>81</td>\n",
              "      <td>80</td>\n",
              "      <td>33</td>\n",
              "      <td>90</td>\n",
              "      <td>78</td>\n",
              "      <td>24</td>\n",
              "      <td>53</td>\n",
              "      <td>80</td>\n",
              "      <td>83</td>\n",
              "      <td>88.0</td>\n",
              "      <td>46.0</td>\n",
              "      <td>59.0</td>\n",
              "      <td>88.0</td>\n",
              "      <td>79.0</td>\n",
              "      <td>190871</td>\n",
              "      <td>88.0</td>\n",
              "      <td>59.0</td>\n",
              "      <td>46.0</td>\n",
              "      <td>79.0</td>\n",
              "      <td>59.0</td>\n",
              "      <td>88.0</td>\n",
              "      <td>87.0</td>\n",
              "      <td>84.0</td>\n",
              "      <td>89.0</td>\n",
              "      <td>64.0</td>\n",
              "      <td>LW</td>\n",
              "      <td>88.0</td>\n",
              "      <td>59.0</td>\n",
              "      <td>46.0</td>\n",
              "      <td>79.0</td>\n",
              "      <td>59.0</td>\n",
              "      <td>88.0</td>\n",
              "      <td>87.0</td>\n",
              "      <td>84.0</td>\n",
              "      <td>89.0</td>\n",
              "      <td>64.0</td>\n",
              "      <td>84.0</td>\n",
              "    </tr>\n",
              "    <tr>\n",
              "      <th>3</th>\n",
              "      <td>3</td>\n",
              "      <td>L. Suárez</td>\n",
              "      <td>30</td>\n",
              "      <td>https://cdn.sofifa.org/48/18/players/176580.png</td>\n",
              "      <td>Uruguay</td>\n",
              "      <td>https://cdn.sofifa.org/flags/60.png</td>\n",
              "      <td>92</td>\n",
              "      <td>92</td>\n",
              "      <td>FC Barcelona</td>\n",
              "      <td>https://cdn.sofifa.org/24/18/teams/241.png</td>\n",
              "      <td>€97M</td>\n",
              "      <td>€510K</td>\n",
              "      <td>2291</td>\n",
              "      <td>88</td>\n",
              "      <td>78</td>\n",
              "      <td>86</td>\n",
              "      <td>60</td>\n",
              "      <td>91</td>\n",
              "      <td>83</td>\n",
              "      <td>77</td>\n",
              "      <td>86</td>\n",
              "      <td>86</td>\n",
              "      <td>94</td>\n",
              "      <td>84</td>\n",
              "      <td>27</td>\n",
              "      <td>25</td>\n",
              "      <td>31</td>\n",
              "      <td>33</td>\n",
              "      <td>37</td>\n",
              "      <td>77</td>\n",
              "      <td>41</td>\n",
              "      <td>69</td>\n",
              "      <td>64</td>\n",
              "      <td>86</td>\n",
              "      <td>30</td>\n",
              "      <td>85</td>\n",
              "      <td>92</td>\n",
              "      <td>93</td>\n",
              "      <td>83</td>\n",
              "      <td>87</td>\n",
              "      <td>38</td>\n",
              "      <td>77</td>\n",
              "      <td>89</td>\n",
              "      <td>45</td>\n",
              "      <td>80</td>\n",
              "      <td>84</td>\n",
              "      <td>88</td>\n",
              "      <td>87.0</td>\n",
              "      <td>58.0</td>\n",
              "      <td>65.0</td>\n",
              "      <td>88.0</td>\n",
              "      <td>80.0</td>\n",
              "      <td>176580</td>\n",
              "      <td>87.0</td>\n",
              "      <td>64.0</td>\n",
              "      <td>58.0</td>\n",
              "      <td>80.0</td>\n",
              "      <td>65.0</td>\n",
              "      <td>88.0</td>\n",
              "      <td>85.0</td>\n",
              "      <td>88.0</td>\n",
              "      <td>87.0</td>\n",
              "      <td>68.0</td>\n",
              "      <td>ST</td>\n",
              "      <td>87.0</td>\n",
              "      <td>64.0</td>\n",
              "      <td>58.0</td>\n",
              "      <td>80.0</td>\n",
              "      <td>65.0</td>\n",
              "      <td>88.0</td>\n",
              "      <td>85.0</td>\n",
              "      <td>88.0</td>\n",
              "      <td>87.0</td>\n",
              "      <td>68.0</td>\n",
              "      <td>88.0</td>\n",
              "    </tr>\n",
              "    <tr>\n",
              "      <th>4</th>\n",
              "      <td>4</td>\n",
              "      <td>M. Neuer</td>\n",
              "      <td>31</td>\n",
              "      <td>https://cdn.sofifa.org/48/18/players/167495.png</td>\n",
              "      <td>Germany</td>\n",
              "      <td>https://cdn.sofifa.org/flags/21.png</td>\n",
              "      <td>92</td>\n",
              "      <td>92</td>\n",
              "      <td>FC Bayern Munich</td>\n",
              "      <td>https://cdn.sofifa.org/24/18/teams/21.png</td>\n",
              "      <td>€61M</td>\n",
              "      <td>€230K</td>\n",
              "      <td>1493</td>\n",
              "      <td>58</td>\n",
              "      <td>29</td>\n",
              "      <td>52</td>\n",
              "      <td>35</td>\n",
              "      <td>48</td>\n",
              "      <td>70</td>\n",
              "      <td>15</td>\n",
              "      <td>14</td>\n",
              "      <td>30</td>\n",
              "      <td>13</td>\n",
              "      <td>11</td>\n",
              "      <td>91</td>\n",
              "      <td>90</td>\n",
              "      <td>95</td>\n",
              "      <td>91</td>\n",
              "      <td>89</td>\n",
              "      <td>25</td>\n",
              "      <td>30</td>\n",
              "      <td>78</td>\n",
              "      <td>59</td>\n",
              "      <td>16</td>\n",
              "      <td>10</td>\n",
              "      <td>47</td>\n",
              "      <td>12</td>\n",
              "      <td>85</td>\n",
              "      <td>55</td>\n",
              "      <td>25</td>\n",
              "      <td>11</td>\n",
              "      <td>61</td>\n",
              "      <td>44</td>\n",
              "      <td>10</td>\n",
              "      <td>83</td>\n",
              "      <td>70</td>\n",
              "      <td>11</td>\n",
              "      <td>NaN</td>\n",
              "      <td>NaN</td>\n",
              "      <td>NaN</td>\n",
              "      <td>NaN</td>\n",
              "      <td>NaN</td>\n",
              "      <td>167495</td>\n",
              "      <td>NaN</td>\n",
              "      <td>NaN</td>\n",
              "      <td>NaN</td>\n",
              "      <td>NaN</td>\n",
              "      <td>NaN</td>\n",
              "      <td>NaN</td>\n",
              "      <td>NaN</td>\n",
              "      <td>NaN</td>\n",
              "      <td>NaN</td>\n",
              "      <td>NaN</td>\n",
              "      <td>GK</td>\n",
              "      <td>NaN</td>\n",
              "      <td>NaN</td>\n",
              "      <td>NaN</td>\n",
              "      <td>NaN</td>\n",
              "      <td>NaN</td>\n",
              "      <td>NaN</td>\n",
              "      <td>NaN</td>\n",
              "      <td>NaN</td>\n",
              "      <td>NaN</td>\n",
              "      <td>NaN</td>\n",
              "      <td>NaN</td>\n",
              "    </tr>\n",
              "  </tbody>\n",
              "</table>\n",
              "</div>"
            ],
            "text/plain": [
              "   Index               Name  Age  ...    RW   RWB    ST\n",
              "0      0  Cristiano Ronaldo   32  ...  91.0  66.0  92.0\n",
              "1      1           L. Messi   30  ...  91.0  62.0  88.0\n",
              "2      2             Neymar   25  ...  89.0  64.0  84.0\n",
              "3      3          L. Suárez   30  ...  87.0  68.0  88.0\n",
              "4      4           M. Neuer   31  ...   NaN   NaN   NaN\n",
              "\n",
              "[5 rows x 75 columns]"
            ]
          },
          "metadata": {
            "tags": []
          },
          "execution_count": 4
        }
      ]
    },
    {
      "cell_type": "markdown",
      "metadata": {
        "id": "WuBCzwmUjIY-",
        "colab_type": "text"
      },
      "source": [
        "#DATA DESCRIPTION"
      ]
    },
    {
      "cell_type": "code",
      "metadata": {
        "id": "-XQSTq_HjHgs",
        "colab_type": "code",
        "outputId": "ebaa66c6-2150-4ac3-dc80-7832c80f88de",
        "colab": {
          "base_uri": "https://localhost:8080/",
          "height": 317
        }
      },
      "source": [
        "data.describe()"
      ],
      "execution_count": 0,
      "outputs": [
        {
          "output_type": "execute_result",
          "data": {
            "text/html": [
              "<div>\n",
              "<style scoped>\n",
              "    .dataframe tbody tr th:only-of-type {\n",
              "        vertical-align: middle;\n",
              "    }\n",
              "\n",
              "    .dataframe tbody tr th {\n",
              "        vertical-align: top;\n",
              "    }\n",
              "\n",
              "    .dataframe thead th {\n",
              "        text-align: right;\n",
              "    }\n",
              "</style>\n",
              "<table border=\"1\" class=\"dataframe\">\n",
              "  <thead>\n",
              "    <tr style=\"text-align: right;\">\n",
              "      <th></th>\n",
              "      <th>Index</th>\n",
              "      <th>Age</th>\n",
              "      <th>Overall</th>\n",
              "      <th>Potential</th>\n",
              "      <th>Special</th>\n",
              "      <th>CAM</th>\n",
              "      <th>CB</th>\n",
              "      <th>CDM</th>\n",
              "      <th>CF</th>\n",
              "      <th>CM</th>\n",
              "      <th>ID</th>\n",
              "      <th>LAM</th>\n",
              "      <th>LB</th>\n",
              "      <th>LCB</th>\n",
              "      <th>LCM</th>\n",
              "      <th>LDM</th>\n",
              "      <th>LF</th>\n",
              "      <th>LM</th>\n",
              "      <th>LS</th>\n",
              "      <th>LW</th>\n",
              "      <th>LWB</th>\n",
              "      <th>RAM</th>\n",
              "      <th>RB</th>\n",
              "      <th>RCB</th>\n",
              "      <th>RCM</th>\n",
              "      <th>RDM</th>\n",
              "      <th>RF</th>\n",
              "      <th>RM</th>\n",
              "      <th>RS</th>\n",
              "      <th>RW</th>\n",
              "      <th>RWB</th>\n",
              "      <th>ST</th>\n",
              "    </tr>\n",
              "  </thead>\n",
              "  <tbody>\n",
              "    <tr>\n",
              "      <th>count</th>\n",
              "      <td>17981.000000</td>\n",
              "      <td>17981.000000</td>\n",
              "      <td>17981.000000</td>\n",
              "      <td>17981.000000</td>\n",
              "      <td>17981.000000</td>\n",
              "      <td>15952.000000</td>\n",
              "      <td>15952.000000</td>\n",
              "      <td>15952.000000</td>\n",
              "      <td>15952.000000</td>\n",
              "      <td>15952.000000</td>\n",
              "      <td>17981.000000</td>\n",
              "      <td>15952.000000</td>\n",
              "      <td>15952.000000</td>\n",
              "      <td>15952.000000</td>\n",
              "      <td>15952.000000</td>\n",
              "      <td>15952.000000</td>\n",
              "      <td>15952.000000</td>\n",
              "      <td>15952.000000</td>\n",
              "      <td>15952.000000</td>\n",
              "      <td>15952.000000</td>\n",
              "      <td>15952.000000</td>\n",
              "      <td>15952.000000</td>\n",
              "      <td>15952.000000</td>\n",
              "      <td>15952.000000</td>\n",
              "      <td>15952.000000</td>\n",
              "      <td>15952.000000</td>\n",
              "      <td>15952.000000</td>\n",
              "      <td>15952.000000</td>\n",
              "      <td>15952.000000</td>\n",
              "      <td>15952.000000</td>\n",
              "      <td>15952.000000</td>\n",
              "      <td>15952.000000</td>\n",
              "    </tr>\n",
              "    <tr>\n",
              "      <th>mean</th>\n",
              "      <td>8990.000000</td>\n",
              "      <td>25.144541</td>\n",
              "      <td>66.247984</td>\n",
              "      <td>71.190813</td>\n",
              "      <td>1594.095100</td>\n",
              "      <td>59.251755</td>\n",
              "      <td>55.550464</td>\n",
              "      <td>56.865283</td>\n",
              "      <td>59.030028</td>\n",
              "      <td>58.506833</td>\n",
              "      <td>207658.710138</td>\n",
              "      <td>59.251755</td>\n",
              "      <td>56.979689</td>\n",
              "      <td>55.550464</td>\n",
              "      <td>58.506833</td>\n",
              "      <td>56.865283</td>\n",
              "      <td>59.030028</td>\n",
              "      <td>60.057736</td>\n",
              "      <td>58.204050</td>\n",
              "      <td>59.359265</td>\n",
              "      <td>57.698721</td>\n",
              "      <td>59.251755</td>\n",
              "      <td>56.979689</td>\n",
              "      <td>55.550464</td>\n",
              "      <td>58.506833</td>\n",
              "      <td>56.865283</td>\n",
              "      <td>59.030028</td>\n",
              "      <td>60.057736</td>\n",
              "      <td>58.204050</td>\n",
              "      <td>59.359265</td>\n",
              "      <td>57.698721</td>\n",
              "      <td>58.204050</td>\n",
              "    </tr>\n",
              "    <tr>\n",
              "      <th>std</th>\n",
              "      <td>5190.811931</td>\n",
              "      <td>4.614272</td>\n",
              "      <td>6.987965</td>\n",
              "      <td>6.102199</td>\n",
              "      <td>272.151435</td>\n",
              "      <td>9.880164</td>\n",
              "      <td>12.192579</td>\n",
              "      <td>10.310178</td>\n",
              "      <td>9.926988</td>\n",
              "      <td>8.888040</td>\n",
              "      <td>32291.667313</td>\n",
              "      <td>9.880164</td>\n",
              "      <td>9.791627</td>\n",
              "      <td>12.192579</td>\n",
              "      <td>8.888040</td>\n",
              "      <td>10.310178</td>\n",
              "      <td>9.926988</td>\n",
              "      <td>9.349180</td>\n",
              "      <td>9.181392</td>\n",
              "      <td>9.978084</td>\n",
              "      <td>9.142825</td>\n",
              "      <td>9.880164</td>\n",
              "      <td>9.791627</td>\n",
              "      <td>12.192579</td>\n",
              "      <td>8.888040</td>\n",
              "      <td>10.310178</td>\n",
              "      <td>9.926988</td>\n",
              "      <td>9.349180</td>\n",
              "      <td>9.181392</td>\n",
              "      <td>9.978084</td>\n",
              "      <td>9.142825</td>\n",
              "      <td>9.181392</td>\n",
              "    </tr>\n",
              "    <tr>\n",
              "      <th>min</th>\n",
              "      <td>0.000000</td>\n",
              "      <td>16.000000</td>\n",
              "      <td>46.000000</td>\n",
              "      <td>46.000000</td>\n",
              "      <td>728.000000</td>\n",
              "      <td>27.000000</td>\n",
              "      <td>25.000000</td>\n",
              "      <td>26.000000</td>\n",
              "      <td>27.000000</td>\n",
              "      <td>30.000000</td>\n",
              "      <td>16.000000</td>\n",
              "      <td>27.000000</td>\n",
              "      <td>30.000000</td>\n",
              "      <td>25.000000</td>\n",
              "      <td>30.000000</td>\n",
              "      <td>26.000000</td>\n",
              "      <td>27.000000</td>\n",
              "      <td>28.000000</td>\n",
              "      <td>31.000000</td>\n",
              "      <td>26.000000</td>\n",
              "      <td>31.000000</td>\n",
              "      <td>27.000000</td>\n",
              "      <td>30.000000</td>\n",
              "      <td>25.000000</td>\n",
              "      <td>30.000000</td>\n",
              "      <td>26.000000</td>\n",
              "      <td>27.000000</td>\n",
              "      <td>28.000000</td>\n",
              "      <td>31.000000</td>\n",
              "      <td>26.000000</td>\n",
              "      <td>31.000000</td>\n",
              "      <td>31.000000</td>\n",
              "    </tr>\n",
              "    <tr>\n",
              "      <th>25%</th>\n",
              "      <td>4495.000000</td>\n",
              "      <td>21.000000</td>\n",
              "      <td>62.000000</td>\n",
              "      <td>67.000000</td>\n",
              "      <td>1449.000000</td>\n",
              "      <td>53.000000</td>\n",
              "      <td>45.000000</td>\n",
              "      <td>49.000000</td>\n",
              "      <td>53.000000</td>\n",
              "      <td>53.000000</td>\n",
              "      <td>192622.000000</td>\n",
              "      <td>53.000000</td>\n",
              "      <td>50.000000</td>\n",
              "      <td>45.000000</td>\n",
              "      <td>53.000000</td>\n",
              "      <td>49.000000</td>\n",
              "      <td>53.000000</td>\n",
              "      <td>54.000000</td>\n",
              "      <td>52.000000</td>\n",
              "      <td>53.000000</td>\n",
              "      <td>51.000000</td>\n",
              "      <td>53.000000</td>\n",
              "      <td>50.000000</td>\n",
              "      <td>45.000000</td>\n",
              "      <td>53.000000</td>\n",
              "      <td>49.000000</td>\n",
              "      <td>53.000000</td>\n",
              "      <td>54.000000</td>\n",
              "      <td>52.000000</td>\n",
              "      <td>53.000000</td>\n",
              "      <td>51.000000</td>\n",
              "      <td>52.000000</td>\n",
              "    </tr>\n",
              "    <tr>\n",
              "      <th>50%</th>\n",
              "      <td>8990.000000</td>\n",
              "      <td>25.000000</td>\n",
              "      <td>66.000000</td>\n",
              "      <td>71.000000</td>\n",
              "      <td>1633.000000</td>\n",
              "      <td>60.000000</td>\n",
              "      <td>57.000000</td>\n",
              "      <td>58.000000</td>\n",
              "      <td>60.000000</td>\n",
              "      <td>59.000000</td>\n",
              "      <td>214057.000000</td>\n",
              "      <td>60.000000</td>\n",
              "      <td>58.000000</td>\n",
              "      <td>57.000000</td>\n",
              "      <td>59.000000</td>\n",
              "      <td>58.000000</td>\n",
              "      <td>60.000000</td>\n",
              "      <td>61.000000</td>\n",
              "      <td>59.000000</td>\n",
              "      <td>60.000000</td>\n",
              "      <td>58.000000</td>\n",
              "      <td>60.000000</td>\n",
              "      <td>58.000000</td>\n",
              "      <td>57.000000</td>\n",
              "      <td>59.000000</td>\n",
              "      <td>58.000000</td>\n",
              "      <td>60.000000</td>\n",
              "      <td>61.000000</td>\n",
              "      <td>59.000000</td>\n",
              "      <td>60.000000</td>\n",
              "      <td>58.000000</td>\n",
              "      <td>59.000000</td>\n",
              "    </tr>\n",
              "    <tr>\n",
              "      <th>75%</th>\n",
              "      <td>13485.000000</td>\n",
              "      <td>28.000000</td>\n",
              "      <td>71.000000</td>\n",
              "      <td>75.000000</td>\n",
              "      <td>1786.000000</td>\n",
              "      <td>66.000000</td>\n",
              "      <td>65.000000</td>\n",
              "      <td>65.000000</td>\n",
              "      <td>66.000000</td>\n",
              "      <td>65.000000</td>\n",
              "      <td>231448.000000</td>\n",
              "      <td>66.000000</td>\n",
              "      <td>64.000000</td>\n",
              "      <td>65.000000</td>\n",
              "      <td>65.000000</td>\n",
              "      <td>65.000000</td>\n",
              "      <td>66.000000</td>\n",
              "      <td>67.000000</td>\n",
              "      <td>65.000000</td>\n",
              "      <td>66.000000</td>\n",
              "      <td>64.000000</td>\n",
              "      <td>66.000000</td>\n",
              "      <td>64.000000</td>\n",
              "      <td>65.000000</td>\n",
              "      <td>65.000000</td>\n",
              "      <td>65.000000</td>\n",
              "      <td>66.000000</td>\n",
              "      <td>67.000000</td>\n",
              "      <td>65.000000</td>\n",
              "      <td>66.000000</td>\n",
              "      <td>64.000000</td>\n",
              "      <td>65.000000</td>\n",
              "    </tr>\n",
              "    <tr>\n",
              "      <th>max</th>\n",
              "      <td>17980.000000</td>\n",
              "      <td>47.000000</td>\n",
              "      <td>94.000000</td>\n",
              "      <td>94.000000</td>\n",
              "      <td>2291.000000</td>\n",
              "      <td>92.000000</td>\n",
              "      <td>87.000000</td>\n",
              "      <td>85.000000</td>\n",
              "      <td>92.000000</td>\n",
              "      <td>87.000000</td>\n",
              "      <td>241219.000000</td>\n",
              "      <td>92.000000</td>\n",
              "      <td>84.000000</td>\n",
              "      <td>87.000000</td>\n",
              "      <td>87.000000</td>\n",
              "      <td>85.000000</td>\n",
              "      <td>92.000000</td>\n",
              "      <td>90.000000</td>\n",
              "      <td>92.000000</td>\n",
              "      <td>91.000000</td>\n",
              "      <td>84.000000</td>\n",
              "      <td>92.000000</td>\n",
              "      <td>84.000000</td>\n",
              "      <td>87.000000</td>\n",
              "      <td>87.000000</td>\n",
              "      <td>85.000000</td>\n",
              "      <td>92.000000</td>\n",
              "      <td>90.000000</td>\n",
              "      <td>92.000000</td>\n",
              "      <td>91.000000</td>\n",
              "      <td>84.000000</td>\n",
              "      <td>92.000000</td>\n",
              "    </tr>\n",
              "  </tbody>\n",
              "</table>\n",
              "</div>"
            ],
            "text/plain": [
              "              Index           Age  ...           RWB            ST\n",
              "count  17981.000000  17981.000000  ...  15952.000000  15952.000000\n",
              "mean    8990.000000     25.144541  ...     57.698721     58.204050\n",
              "std     5190.811931      4.614272  ...      9.142825      9.181392\n",
              "min        0.000000     16.000000  ...     31.000000     31.000000\n",
              "25%     4495.000000     21.000000  ...     51.000000     52.000000\n",
              "50%     8990.000000     25.000000  ...     58.000000     59.000000\n",
              "75%    13485.000000     28.000000  ...     64.000000     65.000000\n",
              "max    17980.000000     47.000000  ...     84.000000     92.000000\n",
              "\n",
              "[8 rows x 32 columns]"
            ]
          },
          "metadata": {
            "tags": []
          },
          "execution_count": 6
        }
      ]
    },
    {
      "cell_type": "markdown",
      "metadata": {
        "id": "wVaX8-kYe3O5",
        "colab_type": "text"
      },
      "source": [
        "#PRE-Processing"
      ]
    },
    {
      "cell_type": "markdown",
      "metadata": {
        "id": "VYbrmaMcjG9e",
        "colab_type": "text"
      },
      "source": [
        "#DATA ENCODING"
      ]
    },
    {
      "cell_type": "code",
      "metadata": {
        "id": "_szkxz_pH5Ov",
        "colab_type": "code",
        "colab": {}
      },
      "source": [
        "data =data.drop([ 'Photo', 'Flag', 'Club Logo'], axis = 1)\n",
        "PP = data['Preferred Positions']\n",
        "data = data.drop('Preferred Positions', axis = 1)\n",
        "data['Preferred Positions'] = PP"
      ],
      "execution_count": 0,
      "outputs": []
    },
    {
      "cell_type": "code",
      "metadata": {
        "id": "FuthswPa9jl5",
        "colab_type": "code",
        "colab": {}
      },
      "source": [
        "l = []\n",
        "for i in data['Value']:\n",
        "    l.append(i[1: len(i) - 1])\n",
        "data['Value'] = l\n",
        "l = []\n",
        "for i in data['Wage']:\n",
        "    if(len(i) > 2):\n",
        "        l.append(int(i[1: len(i) - 1]))\n",
        "    else:\n",
        "        l.append(0)\n",
        "data['Wage'] = l"
      ],
      "execution_count": 0,
      "outputs": []
    },
    {
      "cell_type": "markdown",
      "metadata": {
        "id": "Jr5LXNeCjSli",
        "colab_type": "text"
      },
      "source": [
        "#CHECKING NULL VALUES"
      ]
    },
    {
      "cell_type": "code",
      "metadata": {
        "id": "__FVU9dJogr0",
        "colab_type": "code",
        "outputId": "555af462-9785-434d-dd76-fa68e74af50a",
        "colab": {
          "base_uri": "https://localhost:8080/",
          "height": 1118
        }
      },
      "source": [
        "data.isna().sum()"
      ],
      "execution_count": 0,
      "outputs": [
        {
          "output_type": "execute_result",
          "data": {
            "text/plain": [
              "Index                     0\n",
              "Name                      0\n",
              "Age                       0\n",
              "Nationality               0\n",
              "Overall                   0\n",
              "Potential                 0\n",
              "Club                    248\n",
              "Value                     0\n",
              "Wage                      0\n",
              "Special                   0\n",
              "Acceleration              0\n",
              "Aggression                0\n",
              "Agility                   0\n",
              "Balance                   0\n",
              "Ball control              0\n",
              "Composure                 0\n",
              "Crossing                  0\n",
              "Curve                     0\n",
              "Dribbling                 0\n",
              "Finishing                 0\n",
              "Free kick accuracy        0\n",
              "GK diving                 0\n",
              "GK handling               0\n",
              "GK kicking                0\n",
              "GK positioning            0\n",
              "GK reflexes               0\n",
              "Heading accuracy          0\n",
              "Interceptions             0\n",
              "Jumping                   0\n",
              "Long passing              0\n",
              "                       ... \n",
              "Vision                    0\n",
              "Volleys                   0\n",
              "CAM                    2029\n",
              "CB                     2029\n",
              "CDM                    2029\n",
              "CF                     2029\n",
              "CM                     2029\n",
              "ID                        0\n",
              "LAM                    2029\n",
              "LB                     2029\n",
              "LCB                    2029\n",
              "LCM                    2029\n",
              "LDM                    2029\n",
              "LF                     2029\n",
              "LM                     2029\n",
              "LS                     2029\n",
              "LW                     2029\n",
              "LWB                    2029\n",
              "RAM                    2029\n",
              "RB                     2029\n",
              "RCB                    2029\n",
              "RCM                    2029\n",
              "RDM                    2029\n",
              "RF                     2029\n",
              "RM                     2029\n",
              "RS                     2029\n",
              "RW                     2029\n",
              "RWB                    2029\n",
              "ST                     2029\n",
              "Preferred Positions       0\n",
              "Length: 72, dtype: int64"
            ]
          },
          "metadata": {
            "tags": []
          },
          "execution_count": 9
        }
      ]
    },
    {
      "cell_type": "markdown",
      "metadata": {
        "id": "YXRuH_66jYO9",
        "colab_type": "text"
      },
      "source": [
        "#FILLING NULL VALUES"
      ]
    },
    {
      "cell_type": "code",
      "metadata": {
        "id": "kNJzvwB4AA3Y",
        "colab_type": "code",
        "colab": {}
      },
      "source": [
        "data['Club'] = data['Club'].fillna('U')\n",
        "\n"
      ],
      "execution_count": 0,
      "outputs": []
    },
    {
      "cell_type": "code",
      "metadata": {
        "id": "thufKf93Hjf9",
        "colab_type": "code",
        "colab": {}
      },
      "source": [
        "data.fillna('0',inplace=True)"
      ],
      "execution_count": 0,
      "outputs": []
    },
    {
      "cell_type": "code",
      "metadata": {
        "id": "ITmIpJfGwUoW",
        "colab_type": "code",
        "colab": {}
      },
      "source": [
        "def fix(x):\n",
        "    x = str(x)\n",
        "    if('+' in x):\n",
        "        a, b = x.split(\"+\")\n",
        "        return int(a)\n",
        "    elif('-' in x):\n",
        "        a, b = x.split('-')\n",
        "        return int(a)\n",
        "    elif x.isdigit():\n",
        "        return int(x)\n",
        "    else:\n",
        "        return float(x)\n",
        "for column in data.iloc[:,9:71]:\n",
        "    data[column] = data[column].apply(fix)"
      ],
      "execution_count": 0,
      "outputs": []
    },
    {
      "cell_type": "markdown",
      "metadata": {
        "id": "hA0FL9uzjl6H",
        "colab_type": "text"
      },
      "source": [
        "#BUCKETING"
      ]
    },
    {
      "cell_type": "code",
      "metadata": {
        "id": "IATK-mwfbECp",
        "colab_type": "code",
        "colab": {}
      },
      "source": [
        "data['GK'] = (data['GK diving'] + data['GK handling'] + data['GK kicking'] +  data['GK positioning'] + data['GK reflexes'])\n",
        "data = data.drop(['GK diving', 'GK handling', 'GK kicking', 'GK positioning', 'GK reflexes'], axis = 1)"
      ],
      "execution_count": 0,
      "outputs": []
    },
    {
      "cell_type": "code",
      "metadata": {
        "id": "-zrUCH0YS27N",
        "colab_type": "code",
        "colab": {}
      },
      "source": [
        "data['Defending'] =  (data['Marking'] + data['Sliding tackle'] + data['Standing tackle'])\n",
        "data = data.drop(['Marking', 'Sliding tackle', 'Standing tackle'], axis = 1)"
      ],
      "execution_count": 0,
      "outputs": []
    },
    {
      "cell_type": "code",
      "metadata": {
        "id": "fZluluRkTpwJ",
        "colab_type": "code",
        "colab": {}
      },
      "source": [
        "data['Attacking'] = (data['Crossing']  + data['Finishing'] + data['Heading accuracy'] + data['Short passing'] + data['Volleys'])\n",
        "data = data.drop(['Crossing','Finishing','Heading accuracy','Short passing','Volleys'],axis=1)"
      ],
      "execution_count": 0,
      "outputs": []
    },
    {
      "cell_type": "code",
      "metadata": {
        "id": "hfiRhk-IUg5d",
        "colab_type": "code",
        "colab": {}
      },
      "source": [
        "data['Skills'] = (data['Ball control'] + data['Dribbling'] + data['Curve'] + data['Free kick accuracy'] + data['Long passing'])\n",
        "data = data.drop(['Ball control','Dribbling','Curve','Free kick accuracy','Long passing'],axis=1)"
      ],
      "execution_count": 0,
      "outputs": []
    },
    {
      "cell_type": "code",
      "metadata": {
        "id": "qpNie9J3WOvs",
        "colab_type": "code",
        "colab": {}
      },
      "source": [
        "data['Movement'] = (data['Acceleration'] + data['Sprint speed'] + data['Agility'] + data['Reactions'] + data['Balance'])\n",
        "data = data.drop(['Acceleration','Agility','Sprint speed','Reactions','Balance'],axis=1)"
      ],
      "execution_count": 0,
      "outputs": []
    },
    {
      "cell_type": "code",
      "metadata": {
        "id": "Kn6f9vWBXD8M",
        "colab_type": "code",
        "colab": {}
      },
      "source": [
        "data['Power'] = (data['Shot power'] + data['Jumping']+ data['Stamina'] + data['Strength'] + data['Long shots'])\n",
        "data = data.drop(['Shot power' , 'Jumping' , 'Stamina' , 'Strength' , 'Long shots'] , axis = 1)"
      ],
      "execution_count": 0,
      "outputs": []
    },
    {
      "cell_type": "code",
      "metadata": {
        "id": "BGuvngRPYWNY",
        "colab_type": "code",
        "colab": {}
      },
      "source": [
        "data['Mentality'] = (data['Aggression'] + data['Interceptions'] + data['Positioning'] + data['Vision'] + data['Penalties'] + data['Composure'])\n",
        "data = data.drop(['Aggression' , 'Interceptions','Positioning' , 'Vision','Penalties','Composure'] , axis = 1)"
      ],
      "execution_count": 0,
      "outputs": []
    },
    {
      "cell_type": "code",
      "metadata": {
        "id": "73hIURlAZboH",
        "colab_type": "code",
        "colab": {}
      },
      "source": [
        "l = []\n",
        "k = 0\n",
        "for i in data['Preferred Positions']:\n",
        "    m = i.strip().split(\" \")\n",
        "    s = 0\n",
        "    for j in m:\n",
        "        s += data[j][k]\n",
        "    l.append(s / (len(m)))\n",
        "    k += 1\n",
        "data['Position rating']= l\n"
      ],
      "execution_count": 0,
      "outputs": []
    },
    {
      "cell_type": "code",
      "metadata": {
        "id": "4yXDaQR3dGc1",
        "colab_type": "code",
        "outputId": "e815d54f-3c56-4d84-d0c7-08883353790e",
        "colab": {
          "base_uri": "https://localhost:8080/",
          "height": 620
        }
      },
      "source": [
        "plt.figure(figsize=(10,9))\n",
        "sns.heatmap(data.corr())"
      ],
      "execution_count": 0,
      "outputs": [
        {
          "output_type": "execute_result",
          "data": {
            "text/plain": [
              "<matplotlib.axes._subplots.AxesSubplot at 0x7fb51ef14630>"
            ]
          },
          "metadata": {
            "tags": []
          },
          "execution_count": 33
        },
        {
          "output_type": "display_data",
          "data": {
            "image/png": "[encoded data removed]",
            "text/plain": [
              "<Figure size 720x648 with 2 Axes>"
            ]
          },
          "metadata": {
            "tags": []
          }
        }
      ]
    },
    {
      "cell_type": "markdown",
      "metadata": {
        "id": "7Hp0hX9ajsO8",
        "colab_type": "text"
      },
      "source": [
        "#PRUNING"
      ]
    },
    {
      "cell_type": "code",
      "metadata": {
        "id": "j7y7ZS9BYpbz",
        "colab_type": "code",
        "colab": {}
      },
      "source": [
        "FIFA = data[['Age', 'Overall', 'Potential', 'Special', 'GK', 'Defending', 'Attacking', 'Skills', 'Movement', 'Power', 'Mentality', 'Position rating']]\n"
      ],
      "execution_count": 0,
      "outputs": []
    },
    {
      "cell_type": "markdown",
      "metadata": {
        "id": "84BBwkCUBTt7",
        "colab_type": "text"
      },
      "source": [
        "#HEATMAP  FOR CORRELATION"
      ]
    },
    {
      "cell_type": "code",
      "metadata": {
        "id": "v74OtNiSBOtQ",
        "colab_type": "code",
        "outputId": "1cdf297a-dfff-4514-c290-ee9219203186",
        "colab": {
          "base_uri": "https://localhost:8080/",
          "height": 620
        }
      },
      "source": [
        "plt.figure(figsize=(10,9))\n",
        "sns.heatmap(FIFA.corr())"
      ],
      "execution_count": 0,
      "outputs": [
        {
          "output_type": "execute_result",
          "data": {
            "text/plain": [
              "<matplotlib.axes._subplots.AxesSubplot at 0x7fb52216ad30>"
            ]
          },
          "metadata": {
            "tags": []
          },
          "execution_count": 22
        },
        {
          "output_type": "display_data",
          "data": {
            "image/png": "[encoded data removed]",
            "text/plain": [
              "<Figure size 720x648 with 2 Axes>"
            ]
          },
          "metadata": {
            "tags": []
          }
        }
      ]
    },
    {
      "cell_type": "markdown",
      "metadata": {
        "id": "Qdc4rSvhjvgX",
        "colab_type": "text"
      },
      "source": [
        "#TRAIN_TEST-SPLIT"
      ]
    },
    {
      "cell_type": "code",
      "metadata": {
        "id": "2Pzi0q3S-PaU",
        "colab_type": "code",
        "colab": {}
      },
      "source": [
        "x=FIFA.drop(['Overall'],axis=1)\n",
        "y=FIFA['Overall']"
      ],
      "execution_count": 0,
      "outputs": []
    },
    {
      "cell_type": "code",
      "metadata": {
        "id": "XKpCc-Q7ZVtM",
        "colab_type": "code",
        "colab": {}
      },
      "source": [
        "x_train, x_test, y_train, y_test = train_test_split(x, y, train_size=0.7,random_state=10)"
      ],
      "execution_count": 0,
      "outputs": []
    },
    {
      "cell_type": "markdown",
      "metadata": {
        "id": "1dpGjhtVj5Tv",
        "colab_type": "text"
      },
      "source": [
        "#IMPLEMENTING LINEAR REGRESSION"
      ]
    },
    {
      "cell_type": "code",
      "metadata": {
        "id": "X2kTIZJXZz6E",
        "colab_type": "code",
        "outputId": "0128ee0f-85b0-48c3-c10c-1674644823ab",
        "colab": {
          "base_uri": "https://localhost:8080/",
          "height": 70
        }
      },
      "source": [
        "from sklearn.linear_model import LinearRegression\n",
        "lr=LinearRegression()\n",
        "lr.fit(x_train.values,y_train.values)\n",
        "print(lr.intercept_)\n",
        "print(lr.coef_)"
      ],
      "execution_count": 0,
      "outputs": [
        {
          "output_type": "stream",
          "text": [
            "-16.23311297866674\n",
            "[ 0.59169894  0.61250454 -0.06107641  0.01309047  0.07733959  0.08770513\n",
            "  0.05481161  0.07325998  0.08029755  0.05931138  0.08728581]\n"
          ],
          "name": "stdout"
        }
      ]
    },
    {
      "cell_type": "markdown",
      "metadata": {
        "id": "ptqAcvmyj_pG",
        "colab_type": "text"
      },
      "source": [
        "#RMSE VALUES OF MODEL"
      ]
    },
    {
      "cell_type": "code",
      "metadata": {
        "id": "EOMTUhlFaBOi",
        "colab_type": "code",
        "outputId": "e54c9a78-e29b-4e7e-a6e2-db087d182991",
        "colab": {
          "base_uri": "https://localhost:8080/",
          "height": 52
        }
      },
      "source": [
        "from sklearn.metrics import mean_squared_error\n",
        "import math\n",
        "train_pred_y=lr.predict(x_train)\n",
        "test_pred_y=lr.predict(x_test)\n",
        "print(\"RMSE Train:\",math.sqrt(mean_squared_error(y_train,train_pred_y)))\n",
        "print(\"RMSE Test:\",math.sqrt(mean_squared_error(y_test,test_pred_y)))\n",
        "#lr.score(train input  and train o/p or test)\n"
      ],
      "execution_count": 0,
      "outputs": [
        {
          "output_type": "stream",
          "text": [
            "RMSE Train: 2.070437006769251\n",
            "RMSE Test: 2.095749874426896\n"
          ],
          "name": "stdout"
        }
      ]
    },
    {
      "cell_type": "markdown",
      "metadata": {
        "id": "2pzbRkF9kLQx",
        "colab_type": "text"
      },
      "source": [
        "#ERROR HISTOGRAM"
      ]
    },
    {
      "cell_type": "code",
      "metadata": {
        "id": "mZ7Ib7V6aKL2",
        "colab_type": "code",
        "outputId": "9a577a48-9e5b-460d-d73c-fe0fd027dca6",
        "colab": {
          "base_uri": "https://localhost:8080/",
          "height": 606
        }
      },
      "source": [
        "plt.hist(y_test-test_pred_y,bins=50)"
      ],
      "execution_count": 0,
      "outputs": [
        {
          "output_type": "execute_result",
          "data": {
            "text/plain": [
              "(array([  1.,   0.,   0.,   0.,   0.,   0.,   0.,   1.,   2.,   3.,   1.,\n",
              "          3.,   4.,  12.,  11.,  21.,  24.,  33.,  38.,  43.,  65.,  69.,\n",
              "         86., 134., 141., 164., 181., 213., 264., 301., 299., 338., 364.,\n",
              "        380., 390., 360., 317., 285., 229., 166., 143., 111.,  66.,  49.,\n",
              "         35.,  17.,  11.,   9.,   7.,   4.]),\n",
              " array([-11.02924628, -10.68780266, -10.34635905, -10.00491543,\n",
              "         -9.66347182,  -9.3220282 ,  -8.98058459,  -8.63914097,\n",
              "         -8.29769736,  -7.95625374,  -7.61481013,  -7.27336651,\n",
              "         -6.9319229 ,  -6.59047928,  -6.24903567,  -5.90759206,\n",
              "         -5.56614844,  -5.22470483,  -4.88326121,  -4.5418176 ,\n",
              "         -4.20037398,  -3.85893037,  -3.51748675,  -3.17604314,\n",
              "         -2.83459952,  -2.49315591,  -2.15171229,  -1.81026868,\n",
              "         -1.46882506,  -1.12738145,  -0.78593783,  -0.44449422,\n",
              "         -0.1030506 ,   0.23839301,   0.57983663,   0.92128024,\n",
              "          1.26272386,   1.60416747,   1.94561108,   2.2870547 ,\n",
              "          2.62849831,   2.96994193,   3.31138554,   3.65282916,\n",
              "          3.99427277,   4.33571639,   4.67716   ,   5.01860362,\n",
              "          5.36004723,   5.70149085,   6.04293446]),\n",
              " <a list of 50 Patch objects>)"
            ]
          },
          "metadata": {
            "tags": []
          },
          "execution_count": 27
        },
        {
          "output_type": "display_data",
          "data": {
            "image/png": "[encoded data removed]",
            "text/plain": [
              "<Figure size 432x288 with 1 Axes>"
            ]
          },
          "metadata": {
            "tags": []
          }
        }
      ]
    },
    {
      "cell_type": "markdown",
      "metadata": {
        "id": "w3ki2oSbqkhh",
        "colab_type": "text"
      },
      "source": [
        "#IMPLEMENTING DECISION TREE REGRESSION"
      ]
    },
    {
      "cell_type": "code",
      "metadata": {
        "id": "tMejyOSjqvvd",
        "colab_type": "code",
        "outputId": "c084d0f0-44cd-49a6-f44f-e09d5cba251e",
        "colab": {
          "base_uri": "https://localhost:8080/",
          "height": 105
        }
      },
      "source": [
        "from sklearn.tree import DecisionTreeRegressor  \n",
        "DTregressor = DecisionTreeRegressor(random_state = 0)  \n",
        "DTregressor.fit(x_train.values,y_train.values) \n"
      ],
      "execution_count": 0,
      "outputs": [
        {
          "output_type": "execute_result",
          "data": {
            "text/plain": [
              "DecisionTreeRegressor(criterion='mse', max_depth=None, max_features=None,\n",
              "                      max_leaf_nodes=None, min_impurity_decrease=0.0,\n",
              "                      min_impurity_split=None, min_samples_leaf=1,\n",
              "                      min_samples_split=2, min_weight_fraction_leaf=0.0,\n",
              "                      presort=False, random_state=0, splitter='best')"
            ]
          },
          "metadata": {
            "tags": []
          },
          "execution_count": 28
        }
      ]
    },
    {
      "cell_type": "markdown",
      "metadata": {
        "id": "C12W0l0OrTrf",
        "colab_type": "text"
      },
      "source": [
        ""
      ]
    },
    {
      "cell_type": "code",
      "metadata": {
        "id": "6EgHMZ83rD6l",
        "colab_type": "code",
        "outputId": "ba6c1949-3299-4115-df9d-e16bdd0f761a",
        "colab": {
          "base_uri": "https://localhost:8080/",
          "height": 52
        }
      },
      "source": [
        "train_pred_y=DTregressor.predict(x_train)\n",
        "test_pred_y=DTregressor.predict(x_test)\n",
        "print(\"RMSE Train:\",math.sqrt(mean_squared_error(y_train,train_pred_y)))\n",
        "print(\"RMSE Test:\",math.sqrt(mean_squared_error(y_test,test_pred_y)))"
      ],
      "execution_count": 0,
      "outputs": [
        {
          "output_type": "stream",
          "text": [
            "RMSE Train: 0.0\n",
            "RMSE Test: 1.1224394194038696\n"
          ],
          "name": "stdout"
        }
      ]
    },
    {
      "cell_type": "markdown",
      "metadata": {
        "id": "U3tcfwDz-i1M",
        "colab_type": "text"
      },
      "source": [
        "#RANDOM FOREST REGRESSOR"
      ]
    },
    {
      "cell_type": "code",
      "metadata": {
        "id": "oUdefqzA9Gcs",
        "colab_type": "code",
        "outputId": "7835d012-fa80-40f6-882f-7b615f1f7aa9",
        "colab": {
          "base_uri": "https://localhost:8080/",
          "height": 176
        }
      },
      "source": [
        "from sklearn.ensemble import RandomForestRegressor\n",
        "RFregressor = RandomForestRegressor(random_state = 0)\n",
        "RFregressor.fit(x_train.values,y_train.values) "
      ],
      "execution_count": 0,
      "outputs": [
        {
          "output_type": "stream",
          "text": [
            "/usr/local/lib/python3.6/dist-packages/sklearn/ensemble/forest.py:245: FutureWarning: The default value of n_estimators will change from 10 in version 0.20 to 100 in 0.22.\n",
            "  \"10 in version 0.20 to 100 in 0.22.\", FutureWarning)\n"
          ],
          "name": "stderr"
        },
        {
          "output_type": "execute_result",
          "data": {
            "text/plain": [
              "RandomForestRegressor(bootstrap=True, criterion='mse', max_depth=None,\n",
              "                      max_features='auto', max_leaf_nodes=None,\n",
              "                      min_impurity_decrease=0.0, min_impurity_split=None,\n",
              "                      min_samples_leaf=1, min_samples_split=2,\n",
              "                      min_weight_fraction_leaf=0.0, n_estimators=10,\n",
              "                      n_jobs=None, oob_score=False, random_state=0, verbose=0,\n",
              "                      warm_start=False)"
            ]
          },
          "metadata": {
            "tags": []
          },
          "execution_count": 30
        }
      ]
    },
    {
      "cell_type": "markdown",
      "metadata": {
        "id": "uTdCJ7gC-qgZ",
        "colab_type": "text"
      },
      "source": [
        ""
      ]
    },
    {
      "cell_type": "markdown",
      "metadata": {
        "id": "-mH8H0cr-vFf",
        "colab_type": "text"
      },
      "source": [
        "#RMSE VALUES OF MODEL"
      ]
    },
    {
      "cell_type": "code",
      "metadata": {
        "id": "kIqKXNVy9xzc",
        "colab_type": "code",
        "outputId": "f1b460d8-9eaf-4f2e-9ae2-f7f4b44792f8",
        "colab": {
          "base_uri": "https://localhost:8080/",
          "height": 52
        }
      },
      "source": [
        "train_pred_y=RFregressor.predict(x_train)\n",
        "test_pred_y=RFregressor.predict(x_test)\n",
        "print(\"RMSE Train:\",math.sqrt(mean_squared_error(y_train,train_pred_y)))\n",
        "print(\"RMSE Test:\",math.sqrt(mean_squared_error(y_test,test_pred_y)))"
      ],
      "execution_count": 0,
      "outputs": [
        {
          "output_type": "stream",
          "text": [
            "RMSE Train: 0.36401367969084036\n",
            "RMSE Test: 0.8644797864639863\n"
          ],
          "name": "stdout"
        }
      ]
    }
  ]
}